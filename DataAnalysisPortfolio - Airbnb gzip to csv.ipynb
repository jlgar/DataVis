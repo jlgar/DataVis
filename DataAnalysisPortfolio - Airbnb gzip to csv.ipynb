{
 "cells": [
  {
   "cell_type": "code",
   "execution_count": 3,
   "id": "d494a105",
   "metadata": {},
   "outputs": [],
   "source": [
    "import os\n",
    "import gzip\n",
    "import pandas as pd\n",
    "\n",
    "dir_path = \"/Users/jamester/Downloads/DataAnalysis\"\n",
    "all_files = [f for f in os.listdir(dir_path) if f.endswith('csv.gz')]\n",
    "\n",
    "for file in all_files:\n",
    "    with gzip.open(f\"{dir_path}/{file}\") as f:\n",
    "        df = pd.read_csv(f)\n",
    "        df.to_csv(f\"{file.split('.')[0]}.csv\")"
   ]
  },
  {
   "cell_type": "code",
   "execution_count": 4,
   "id": "ef0d63e4",
   "metadata": {},
   "outputs": [
    {
     "data": {
      "text/plain": [
       "['listings.csv.gz', 'calendar.csv.gz', 'reviews.csv.gz']"
      ]
     },
     "execution_count": 4,
     "metadata": {},
     "output_type": "execute_result"
    }
   ],
   "source": [
    "all_files"
   ]
  },
  {
   "cell_type": "code",
   "execution_count": null,
   "id": "e1deea81",
   "metadata": {},
   "outputs": [],
   "source": [
    "pd.read_csv('Users/jamester/Downloads/DataAnalysis/listings.csv')"
   ]
  },
  {
   "cell_type": "code",
   "execution_count": null,
   "id": "f8dfb8e1",
   "metadata": {},
   "outputs": [],
   "source": []
  }
 ],
 "metadata": {
  "kernelspec": {
   "display_name": "Python 3 (ipykernel)",
   "language": "python",
   "name": "python3"
  },
  "language_info": {
   "codemirror_mode": {
    "name": "ipython",
    "version": 3
   },
   "file_extension": ".py",
   "mimetype": "text/x-python",
   "name": "python",
   "nbconvert_exporter": "python",
   "pygments_lexer": "ipython3",
   "version": "3.11.3"
  }
 },
 "nbformat": 4,
 "nbformat_minor": 5
}
